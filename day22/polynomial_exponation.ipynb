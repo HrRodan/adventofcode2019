{
 "nbformat": 4,
 "nbformat_minor": 2,
 "metadata": {
  "language_info": {
   "name": "python",
   "codemirror_mode": {
    "name": "ipython",
    "version": 3
   },
   "version": "3.7.1"
  },
  "orig_nbformat": 2,
  "file_extension": ".py",
  "mimetype": "text/x-python",
  "name": "python",
  "npconvert_exporter": "python",
  "pygments_lexer": "ipython3",
  "version": 3
 },
 "cells": [
  {
   "cell_type": "code",
   "execution_count": 1,
   "metadata": {
    "pycharm": {
     "name": "#%%\n"
    }
   },
   "outputs": [],
   "source": [
    "import re\n",
    "\n",
    "with open('inputs/22.txt') as file:\n",
    "    input = file.read()\n",
    "\n",
    "rules = input.split('\\n')\n"
   ]
  },
  {
   "cell_type": "code",
   "execution_count": 2,
   "metadata": {
    "pycharm": {
     "name": "#%%\n"
    }
   },
   "outputs": [
    {
     "name": "stdout",
     "output_type": "stream",
     "text": "Wall time: 84.8 ms\n"
    },
    {
     "data": {
      "text/plain": "2480"
     },
     "execution_count": 2,
     "metadata": {},
     "output_type": "execute_result"
    }
   ],
   "source": [
    "%%time\n",
    "\n",
    "def shuffle(deck, rules):\n",
    "    for s in rules:\n",
    "        if s == 'deal into new stack':\n",
    "            deck.reverse()\n",
    "            continue\n",
    "        match = re.match(r'cut (-?\\d+)', s)\n",
    "        if match != None:\n",
    "            n = int(match.group(1))\n",
    "            deck = deck[n:]+deck[:n]\n",
    "            continue\n",
    "        match = re.match(r'deal with increment (\\d+)', s)\n",
    "        if match != None:\n",
    "            n = int(match.group(1))\n",
    "            ndeck = [0]*len(deck)\n",
    "            for i in range(len(deck)):\n",
    "                ndeck[(i*n)%len(deck)] = deck[i]\n",
    "            deck = ndeck\n",
    "            continue\n",
    "        raise Exception('unknown rule', s)\n",
    "    return deck\n",
    "\n",
    "deck = shuffle(list(range(10007)), rules)\n",
    "deck.index(2019)\n"
   ]
  },
  {
   "cell_type": "code",
   "execution_count": 3,
   "metadata": {
    "pycharm": {
     "name": "#%%\n"
    }
   },
   "outputs": [],
   "source": [
    "\n",
    "# convert rules to linear polynomial.\n",
    "# (g∘f)(x) = g(f(x))\n",
    "def parse(L, rules):\n",
    "    a,b = 1,0\n",
    "    for s in rules[::-1]:\n",
    "        if s == 'deal into new stack':\n",
    "            a = -a\n",
    "            b = L-b-1\n",
    "            continue\n",
    "        if s.startswith('cut'):\n",
    "            n = int(s.split(' ')[1])\n",
    "            b = (b+n)%L\n",
    "            continue\n",
    "        if s.startswith('deal with increment'):\n",
    "            n = int(s.split(' ')[3])\n",
    "            z = pow(n,L-2,L) # == modinv(n,L)\n",
    "            a = a*z % L\n",
    "            b = b*z % L\n",
    "            continue\n",
    "        raise Exception('unknown rule', s)\n",
    "    return a,b\n",
    "\n",
    "# modpow the polynomial: (ax+b)^m % n\n",
    "# f(x) = ax+b\n",
    "# g(x) = cx+d\n",
    "# f^2(x) = a(ax+b)+b = aax + ab+b\n",
    "# f(g(x)) = a(cx+d)+b = acx + ad+b\n",
    "def polypow(a,b,m,n):\n",
    "    if m==0:\n",
    "        return 1,0\n",
    "    if m%2==0:\n",
    "        return polypow(a*a%n, (a*b+b)%n, m//2, n)\n",
    "    else:\n",
    "        c,d = polypow(a,b,m-1,n)\n",
    "        return a*c%n, (a*d+b)%n\n",
    "\n",
    "def shuffle2(L, N, pos, rules):\n",
    "    a,b = parse(L,rules)\n",
    "    a,b = polypow(a,b,N,L)\n",
    "    return (pos*a+b)%L\n"
   ]
  },
  {
   "cell_type": "code",
   "execution_count": 4,
   "metadata": {
    "pycharm": {
     "name": "#%%\n"
    }
   },
   "outputs": [
    {
     "name": "stdout",
     "output_type": "stream",
     "text": "8434\n8434\nWall time: 794 ms\n"
    }
   ],
   "source": [
    "%%time\n",
    "\n",
    "# test it out\n",
    "pos = 2020\n",
    "L = 10007\n",
    "N = 10\n",
    "deck = list(range(L))\n",
    "for i in range(N):\n",
    "    deck = shuffle(deck,rules)\n",
    "print(deck[pos])\n",
    "print(shuffle2(L,N,pos,rules))\n"
   ]
  },
  {
   "cell_type": "code",
   "execution_count": 5,
   "metadata": {
    "pycharm": {
     "name": "#%%\n"
    }
   },
   "outputs": [
    {
     "name": "stdout",
     "output_type": "stream",
     "text": "Wall time: 0 ns\n"
    },
    {
     "data": {
      "text/plain": "62416301438548"
     },
     "execution_count": 5,
     "metadata": {},
     "output_type": "execute_result"
    }
   ],
   "source": [
    "%%time\n",
    "\n",
    "L = 119315717514047\n",
    "N = 101741582076661\n",
    "shuffle2(L,N,2020,rules)\n"
   ]
  },
  {
   "cell_type": "code",
   "execution_count": null,
   "metadata": {
    "pycharm": {
     "name": "#%%\n"
    }
   },
   "outputs": [],
   "source": []
  }
 ]
}