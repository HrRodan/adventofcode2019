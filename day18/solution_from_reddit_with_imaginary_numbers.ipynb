{
 "nbformat": 4,
 "nbformat_minor": 2,
 "metadata": {
  "language_info": {
   "name": "python",
   "codemirror_mode": {
    "name": "ipython",
    "version": 3
   },
   "version": "3.7.1"
  },
  "orig_nbformat": 2,
  "file_extension": ".py",
  "mimetype": "text/x-python",
  "name": "python",
  "npconvert_exporter": "python",
  "pygments_lexer": "ipython3",
  "version": 3
 },
 "cells": [
  {
   "cell_type": "code",
   "execution_count": 1,
   "metadata": {},
   "outputs": [],
   "source": [
    "from collections import defaultdict\n",
    "from itertools import count\n",
    "\n",
    "with open('inputs/18.txt') as file:\n",
    "    input = file.read()\n"
   ]
  },
  {
   "cell_type": "code",
   "execution_count": 2,
   "metadata": {},
   "outputs": [],
   "source": [
    "def parseInput(input):\n",
    "    maze = {}\n",
    "    goals = {}\n",
    "    for y,row in enumerate(input.split('\\n')):\n",
    "        for x,cell in enumerate(row):\n",
    "            p = complex(x,y)\n",
    "            maze[p] = cell\n",
    "            if cell in '#.': continue\n",
    "            goals[cell] = p\n",
    "    return maze, goals\n",
    "\n",
    "def findLinks(maze, start):\n",
    "    links = {}\n",
    "    walk = defaultdict(lambda:[99999,{}])\n",
    "    walk[start] = (0,set())\n",
    "    next = [(start,set())]\n",
    "\n",
    "    for step in count(1):\n",
    "        if len(next)==0: break\n",
    "        cur,next = next,[]\n",
    "        for p,ds in cur:\n",
    "            for d in [1,1j,-1,-1j]:\n",
    "                c = maze[p+d]\n",
    "                if c == '#' or walk[p+d][0]<=step: continue\n",
    "                if c.islower():\n",
    "                    links[c] = (step,ds)\n",
    "                nds = ds\n",
    "                if c.isupper():\n",
    "                    nds = nds | {c.lower()}\n",
    "                walk[p+d] = (step,nds)\n",
    "                next.append((p+d,nds))\n",
    "    return links # naturally sorted by distance\n"
   ]
  },
  {
   "cell_type": "code",
   "execution_count": 3,
   "metadata": {},
   "outputs": [],
   "source": [
    "\n",
    "def findShortest1():\n",
    "    maze, goals = parseInput(input)\n",
    "\n",
    "    allKeys = {k for k in goals if k.islower()}\n",
    "    links = {'@': findLinks(maze, goals['@'])}\n",
    "    for k in allKeys:\n",
    "        links[k] = findLinks(maze, goals[k])\n",
    "\n",
    "    cache = {}\n",
    "    def walk(name, needKeys):\n",
    "        if len(needKeys)==0:\n",
    "            return 0\n",
    "\n",
    "        key = name + ''.join(needKeys)\n",
    "        if key in cache:\n",
    "            return cache[key]\n",
    "\n",
    "        shortest = float('inf')\n",
    "        for k in needKeys:\n",
    "            l,doors = links[name][k]\n",
    "            if l >= shortest: continue # too long to try\n",
    "            if not doors.isdisjoint(needKeys): continue # can't open doors\n",
    "            tail = walk(k, needKeys - {k})\n",
    "            if shortest > l + tail: shortest = l + tail\n",
    "        cache[key] = shortest\n",
    "        return shortest\n",
    "    \n",
    "    res = walk('@', allKeys)\n",
    "    print('cached',len(cache))\n",
    "    return res\n",
    "\n"
   ]
  },
  {
   "cell_type": "code",
   "execution_count": 10,
   "metadata": {},
   "outputs": [
    {
     "name": "stdout",
     "output_type": "stream",
     "text": "cached 94912\nWall time: 1.14 s\n"
    },
    {
     "data": {
      "text/plain": "4420"
     },
     "execution_count": 10,
     "metadata": {},
     "output_type": "execute_result"
    }
   ],
   "source": [
    "%%time\n",
    "\n",
    "findShortest1()\n"
   ]
  },
  {
   "cell_type": "code",
   "execution_count": 5,
   "metadata": {},
   "outputs": [],
   "source": [
    "\n",
    "def findShortest4():\n",
    "    maze, goals = parseInput(input)\n",
    "\n",
    "    s = goals['@']\n",
    "    maze[s]=maze[s+1]=maze[s-1]=maze[s+1j]=maze[s-1j]='#'\n",
    "    maze[s+1+1j]='1'; goals['1'] = s+1+1j\n",
    "    maze[s-1+1j]='2'; goals['2'] = s-1+1j\n",
    "    maze[s+1-1j]='3'; goals['3'] = s+1-1j\n",
    "    maze[s-1-1j]='4'; goals['4'] = s-1-1j\n",
    "\n",
    "    allKeys = {k for k in goals if k.islower()}\n",
    "    links = {}\n",
    "    for k in '1234':\n",
    "        links[k] = findLinks(maze, goals[k])\n",
    "    for k in allKeys:\n",
    "        links[k] = findLinks(maze, goals[k])\n",
    "\n",
    "    cache = {}\n",
    "    def walk(names, needKeys):\n",
    "        if len(needKeys)==0:\n",
    "            return 0\n",
    "\n",
    "        key = ''.join(sorted(names)) + ''.join(sorted(needKeys))\n",
    "        if key in cache:\n",
    "            return cache[key]\n",
    "\n",
    "        shortest = float('inf')\n",
    "        for k in needKeys:\n",
    "            for k2 in names:\n",
    "                if k not in links[k2]: continue\n",
    "\n",
    "                l,doors = links[k2][k]\n",
    "                if l >= shortest: continue # too long to try\n",
    "                if not doors.isdisjoint(needKeys): continue # can't open doors\n",
    "                tail = walk((names - {k2}) | {k}, needKeys - {k})\n",
    "                if shortest > l + tail: shortest = l + tail\n",
    "        cache[key] = shortest\n",
    "        return shortest\n",
    "    \n",
    "    res = walk({'1','2','3','4'}, allKeys)\n",
    "    print('cached',len(cache))\n",
    "    return res\n"
   ]
  },
  {
   "cell_type": "code",
   "execution_count": 11,
   "metadata": {},
   "outputs": [
    {
     "name": "stdout",
     "output_type": "stream",
     "text": "cached 1005671\nWall time: 16.6 s\n"
    },
    {
     "data": {
      "text/plain": "2128"
     },
     "execution_count": 11,
     "metadata": {},
     "output_type": "execute_result"
    }
   ],
   "source": [
    "%%time\n",
    "\n",
    "findShortest4()\n"
   ]
  },
  {
   "cell_type": "code",
   "execution_count": null,
   "metadata": {},
   "outputs": [],
   "source": []
  }
 ]
}